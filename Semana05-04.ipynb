{
 "cells": [
  {
   "cell_type": "markdown",
   "id": "46ea6950",
   "metadata": {},
   "source": [
    "# Semana 05\n",
    "Sebastian Timo Laura Antezana"
   ]
  },
  {
   "cell_type": "markdown",
   "id": "b7d1c4f5",
   "metadata": {},
   "source": [
    "Temas"
   ]
  },
  {
   "cell_type": "markdown",
   "id": "0e3cad0e",
   "metadata": {},
   "source": [
    "1. Números\n",
    "2. Variables\n",
    "3. Manejo de cadenas\n",
    "4. Ingreso de datos por teclado\n",
    "5. Operadores"
   ]
  },
  {
   "cell_type": "markdown",
   "id": "92d76ec7",
   "metadata": {},
   "source": [
    "4. Ingreso de datos por teclado"
   ]
  },
  {
   "cell_type": "code",
   "execution_count": 3,
   "id": "f947936d",
   "metadata": {},
   "outputs": [
    {
     "name": "stdout",
     "output_type": "stream",
     "text": [
      "¿Cuál es tu nombre?\n",
      "Sebastian\n",
      "Hola Sebastian\n"
     ]
    }
   ],
   "source": [
    "#Función input()\n",
    "print(\"¿Cuál es tu nombre?\")\n",
    "nombre = input()\n",
    "print(\"Hola \" + nombre)"
   ]
  },
  {
   "cell_type": "code",
   "execution_count": 4,
   "id": "82d4f30a",
   "metadata": {},
   "outputs": [
    {
     "name": "stdout",
     "output_type": "stream",
     "text": [
      "numero1: \n",
      "2\n",
      "numero2: \n",
      "3\n",
      "El resultado es 5\n"
     ]
    }
   ],
   "source": [
    "#Cuando se ingresa un valor por teclado se hace como cadena\n",
    "print(\"numero1: \")\n",
    "numero1 = input()\n",
    "print(\"numero2: \")\n",
    "numero2 = input()\n",
    "numero3 = int(numero1) + int(numero2)\n",
    "print(f\"El resultado es {numero3}\")"
   ]
  },
  {
   "cell_type": "code",
   "execution_count": null,
   "id": "820bd83d",
   "metadata": {},
   "outputs": [],
   "source": []
  }
 ],
 "metadata": {
  "kernelspec": {
   "display_name": "Python 3 (ipykernel)",
   "language": "python",
   "name": "python3"
  },
  "language_info": {
   "codemirror_mode": {
    "name": "ipython",
    "version": 3
   },
   "file_extension": ".py",
   "mimetype": "text/x-python",
   "name": "python",
   "nbconvert_exporter": "python",
   "pygments_lexer": "ipython3",
   "version": "3.9.7"
  }
 },
 "nbformat": 4,
 "nbformat_minor": 5
}
